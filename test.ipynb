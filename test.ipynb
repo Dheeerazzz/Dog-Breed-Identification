{
 "cells": [
  {
   "cell_type": "code",
   "execution_count": 1,
   "metadata": {},
   "outputs": [],
   "source": [
    "import os\n",
    "import cv2\n",
    "import numpy as np\n",
    "from sklearn.model_selection import train_test_split\n"
   ]
  },
  {
   "cell_type": "code",
   "execution_count": 2,
   "metadata": {},
   "outputs": [],
   "source": [
    "def load_images_from_folders(parent_folder):\n",
    "    images=[]\n",
    "    labels=[]\n",
    "    subfolders=[f.name for f in os.scandir(parent_folder) if f.is_dir()]\n",
    "    for label,subfolder in enumerate(subfolders):\n",
    "        breed_folder=os.path.join(parent_folder, subfolder)\n",
    "        for filename in os.listdir(breed_folder):\n",
    "            if filename.endswith(('.png', '.jpg', '.jpeg')):\n",
    "                img_path=os.path.join(breed_folder, filename)\n",
    "                img=cv2.imread(img_path)\n",
    "                if img is not None:\n",
    "                    images.append(img)\n",
    "                    labels.append(label)\n",
    "\n",
    "    return images, labels\n",
    "\n",
    "parent_folder_path = \"C:/Users/sriyo/Desktop/datasets/images/Images\"\n",
    "loaded_images, labels = load_images_from_folders(parent_folder_path)\n",
    "\n"
   ]
  },
  {
   "cell_type": "code",
   "execution_count": 3,
   "metadata": {},
   "outputs": [
    {
     "data": {
      "text/plain": [
       "array([[[ 14,   9,  11],\n",
       "        [ 13,   8,  10],\n",
       "        [ 11,   6,   7],\n",
       "        ...,\n",
       "        [158, 198, 173],\n",
       "        [146, 186, 161],\n",
       "        [128, 165, 145]],\n",
       "\n",
       "       [[ 14,   9,  11],\n",
       "        [ 13,   8,  10],\n",
       "        [ 11,   6,   7],\n",
       "        ...,\n",
       "        [140, 182, 157],\n",
       "        [129, 171, 148],\n",
       "        [120, 161, 140]],\n",
       "\n",
       "       [[ 13,   8,  10],\n",
       "        [ 13,   8,  10],\n",
       "        [ 12,   7,   8],\n",
       "        ...,\n",
       "        [103, 151, 125],\n",
       "        [ 97, 145, 121],\n",
       "        [ 98, 145, 123]],\n",
       "\n",
       "       ...,\n",
       "\n",
       "       [[255, 255, 255],\n",
       "        [255, 255, 255],\n",
       "        [255, 255, 255],\n",
       "        ...,\n",
       "        [  6,   6,   6],\n",
       "        [  6,   6,   6],\n",
       "        [  6,   6,   6]],\n",
       "\n",
       "       [[255, 255, 255],\n",
       "        [255, 255, 255],\n",
       "        [255, 255, 255],\n",
       "        ...,\n",
       "        [  6,   6,   6],\n",
       "        [  6,   6,   6],\n",
       "        [  6,   6,   6]],\n",
       "\n",
       "       [[255, 255, 255],\n",
       "        [255, 255, 255],\n",
       "        [255, 255, 255],\n",
       "        ...,\n",
       "        [  7,   7,   7],\n",
       "        [  7,   7,   7],\n",
       "        [  7,   7,   7]]], dtype=uint8)"
      ]
     },
     "execution_count": 3,
     "metadata": {},
     "output_type": "execute_result"
    }
   ],
   "source": [
    "loaded_images[0]"
   ]
  },
  {
   "cell_type": "markdown",
   "metadata": {},
   "source": [
    "## Normalized the pixels to range [0,1]"
   ]
  },
  {
   "cell_type": "code",
   "execution_count": 5,
   "metadata": {},
   "outputs": [],
   "source": [
    "import cv2\n",
    "import numpy as np\n",
    "\n",
    "def normalize_image_batch(images):\n",
    "    normalized_list = []\n",
    "    for img in images:\n",
    "        img = img.astype(np.float32)\n",
    "        img /= 255.0\n",
    "        normalized_list.append(img)\n",
    "    return normalized_list\n",
    "\n",
    "normalized_list = []\n",
    "num_batches=len(loaded_images)\n",
    "for i in range(num_batches):\n",
    "    start_idx=i*20\n",
    "    end_idx=(i+1)*20\n",
    "    batch_images=loaded_images[start_idx:end_idx]\n",
    "    normalized_batch=normalize_image_batch(batch_images)\n",
    "    normalized_list.extend(normalized_batch)\n",
    "\n",
    "remaining_images = loaded_images[num_batches*20:]\n",
    "remaining_normalized = normalize_image_batch(remaining_images)\n",
    "normalized_list.extend(remaining_normalized)\n"
   ]
  },
  {
   "cell_type": "code",
   "execution_count": null,
   "metadata": {},
   "outputs": [],
   "source": [
    "x_train,x_test,y_train,y_test=train_test_split(normalized_list,labels,test_size=0.2,random_state=42)\n"
   ]
  }
 ],
 "metadata": {
  "kernelspec": {
   "display_name": "Python 3",
   "language": "python",
   "name": "python3"
  },
  "language_info": {
   "codemirror_mode": {
    "name": "ipython",
    "version": 3
   },
   "file_extension": ".py",
   "mimetype": "text/x-python",
   "name": "python",
   "nbconvert_exporter": "python",
   "pygments_lexer": "ipython3",
   "version": "3.10.10"
  }
 },
 "nbformat": 4,
 "nbformat_minor": 2
}
